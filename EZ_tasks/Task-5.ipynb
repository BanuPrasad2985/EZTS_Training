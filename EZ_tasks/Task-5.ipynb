{
 "cells": [
  {
   "cell_type": "markdown",
   "id": "673db1ac-e9fe-4e6e-96d4-f135209f9edc",
   "metadata": {},
   "source": [
    "Book Collection\n",
    "\n",
    "Objective: Create a system to manage a collection of books, including title, author, and ISBN.\n",
    "\n",
    "Instructions:\n",
    "Define a class Book with attributes for title, author, and ISBN.\n",
    "Implement methods to set and get each attribute.\n",
    "Create a list to store instances of the Book class and demonstrate adding and retrieving books from the collection.\n",
    "\n",
    "Hint: Use a list to store the book instances, allowing for easy addition and retrieval of books."
   ]
  },
  {
   "cell_type": "code",
   "execution_count": 1,
   "id": "1f809b1d-a70a-4ee1-9216-9461b22d81bb",
   "metadata": {},
   "outputs": [
    {
     "name": "stdout",
     "output_type": "stream",
     "text": [
      "Title: To Kill a Mockingbird\n",
      "Author: Harper Lee\n",
      "ISBN: 978-0-06-093546-2\n",
      "\n",
      "Title: The Great Gatsby\n",
      "Author: F. Scott Fitzgerald\n",
      "ISBN: 978-0-7432-7356-5\n",
      "\n",
      "Title: 1984\n",
      "Author: George Orwell\n",
      "ISBN: 978-0-451-52493-5\n",
      "\n"
     ]
    }
   ],
   "source": [
    "class Book:\n",
    "    def __init__(self, title, author, isbn):\n",
    "        self._title = title\n",
    "        self._author = author\n",
    "        self._isbn = isbn\n",
    "\n",
    "    def set_title(self, title):\n",
    "        self._title = title\n",
    "\n",
    "    def set_author(self, author):\n",
    "        self._author = author\n",
    "\n",
    "    def set_isbn(self, isbn):\n",
    "        self._isbn = isbn\n",
    "\n",
    "    def get_title(self):\n",
    "        return self._title\n",
    "\n",
    "    def get_author(self):\n",
    "        return self._author\n",
    "\n",
    "    def get_isbn(self):\n",
    "        return self._isbn\n",
    "\n",
    "    def display_info(self):\n",
    "        print(f\"Title: {self._title}\")\n",
    "        print(f\"Author: {self._author}\")\n",
    "        print(f\"ISBN: {self._isbn}\")\n",
    "        \n",
    "book_collection = []\n",
    "book1 = Book(\"To Kill a Mockingbird\", \"Harper Lee\", \"978-0-06-093546-2\")\n",
    "book2 = Book(\"The Great Gatsby\", \"F. Scott Fitzgerald\", \"978-0-7432-7356-5\")\n",
    "book3 = Book(\"1984\", \"George Orwell\", \"978-0-451-52493-5\")\n",
    "\n",
    "book_collection.append(book1)\n",
    "book_collection.append(book2)\n",
    "book_collection.append(book3)\n",
    "\n",
    "for book in book_collection:\n",
    "    book.display_info()\n",
    "    print()"
   ]
  },
  {
   "cell_type": "code",
   "execution_count": null,
   "id": "85ae44b5-4615-40e1-b767-9a29e2e87cde",
   "metadata": {},
   "outputs": [],
   "source": []
  }
 ],
 "metadata": {
  "kernelspec": {
   "display_name": "Python 3 (ipykernel)",
   "language": "python",
   "name": "python3"
  },
  "language_info": {
   "codemirror_mode": {
    "name": "ipython",
    "version": 3
   },
   "file_extension": ".py",
   "mimetype": "text/x-python",
   "name": "python",
   "nbconvert_exporter": "python",
   "pygments_lexer": "ipython3",
   "version": "3.11.7"
  }
 },
 "nbformat": 4,
 "nbformat_minor": 5
}
