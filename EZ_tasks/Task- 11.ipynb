{
 "cells": [
  {
   "cell_type": "markdown",
   "id": "2a8d20a5-af16-4b2b-88b7-9b3af1971301",
   "metadata": {},
   "source": [
    "Simple Flight Booking System\r\n",
    "\n",
    "Objective: Develop a system to manage flight bookings, including flight details and passenger information.\n",
    "\n",
    "\r\n",
    "Instructions:\r\n",
    "• Define a class Flight with attributes for flight number, origin, destination, and capacity.\r\n",
    "• Define a class Passenger with attributes for name, passport number, and booked flight.\r\n",
    "• Implement methods in the Flight class to book a passenger, cancel a booking, and check available seats. Create instances of the Flight and Passenger classes and demonstrate booking and cancelling flights for passengers.\r\n",
    "\r\n",
    "Hint: Use a list within the Flight class to keep track of booked passengers. The length of this list can help determine the number of available seats.\r\n",
    " "
   ]
  },
  {
   "cell_type": "code",
   "execution_count": 2,
   "id": "83ed9925-d43c-4ad5-9af5-5bb9a0edde0a",
   "metadata": {},
   "outputs": [
    {
     "name": "stdout",
     "output_type": "stream",
     "text": [
      "Passenger John Doe booked on flight AA123.\n",
      "Passenger Jane Smith booked on flight AA123.\n",
      "Passenger John Doe booked on flight AA456.\n",
      "Booking for passenger John Doe on flight AA123 cancelled.\n",
      "Passenger Jane Smith not booked on flight AA456.\n",
      "Flight AA123 has 199 available seats.\n",
      "Flight AA456 has 149 available seats.\n"
     ]
    }
   ],
   "source": [
    "class Flight:\n",
    "    def __init__(self, flight_number, origin, destination, capacity):\n",
    "        self._flight_number = flight_number\n",
    "        self._origin = origin\n",
    "        self._destination = destination\n",
    "        self._capacity = capacity\n",
    "        self._booked_passengers = []\n",
    "\n",
    "    def book_passenger(self, passenger):\n",
    "        if len(self._booked_passengers) < self._capacity:\n",
    "            self._booked_passengers.append(passenger)\n",
    "            print(f\"Passenger {passenger.get_name()} booked on flight {self._flight_number}.\")\n",
    "        else:\n",
    "            print(f\"Flight {self._flight_number} is fully booked.\")\n",
    "\n",
    "    def cancel_booking(self, passenger):\n",
    "        if passenger in self._booked_passengers:\n",
    "            self._booked_passengers.remove(passenger)\n",
    "            print(f\"Booking for passenger {passenger.get_name()} on flight {self._flight_number} cancelled.\")\n",
    "        else:\n",
    "            print(f\"Passenger {passenger.get_name()} not booked on flight {self._flight_number}.\")\n",
    "\n",
    "    def check_available_seats(self):\n",
    "        available_seats = self._capacity - len(self._booked_passengers)\n",
    "        if available_seats > 0:\n",
    "            print(f\"Flight {self._flight_number} has {available_seats} available seats.\")\n",
    "        else:\n",
    "            print(f\"Flight {self._flight_number} is fully booked.\")\n",
    "\n",
    "class Passenger:\n",
    "    def __init__(self, name, passport_number):\n",
    "        self._name = name\n",
    "        self._passport_number = passport_number\n",
    "\n",
    "    def get_name(self):\n",
    "        return self._name\n",
    "\n",
    "flight1 = Flight(\"AA123\", \"New York\", \"Los Angeles\", 200)\n",
    "flight2 = Flight(\"AA456\", \"Chicago\", \"San Francisco\", 150)\n",
    "\n",
    "passenger1 = Passenger(\"John Doe\", \"123456789\")\n",
    "passenger2 = Passenger(\"Jane Smith\", \"987654321\")\n",
    "\n",
    "flight1.book_passenger(passenger1)\n",
    "flight1.book_passenger(passenger2)\n",
    "flight2.book_passenger(passenger1)\n",
    "flight1.cancel_booking(passenger1)\n",
    "flight2.cancel_booking(passenger2)\n",
    "flight1.check_available_seats()\n",
    "flight2.check_available_seats()"
   ]
  },
  {
   "cell_type": "code",
   "execution_count": null,
   "id": "1406adb0-2198-4af4-8017-d5ee61e78cf1",
   "metadata": {},
   "outputs": [],
   "source": []
  }
 ],
 "metadata": {
  "kernelspec": {
   "display_name": "Python 3 (ipykernel)",
   "language": "python",
   "name": "python3"
  },
  "language_info": {
   "codemirror_mode": {
    "name": "ipython",
    "version": 3
   },
   "file_extension": ".py",
   "mimetype": "text/x-python",
   "name": "python",
   "nbconvert_exporter": "python",
   "pygments_lexer": "ipython3",
   "version": "3.11.7"
  }
 },
 "nbformat": 4,
 "nbformat_minor": 5
}
