{
 "cells": [
  {
   "cell_type": "markdown",
   "id": "460e7365-f29c-479c-9cf5-b0d4b477d478",
   "metadata": {},
   "source": [
    "#### 24/06/24"
   ]
  },
  {
   "cell_type": "markdown",
   "id": "5c7773a6-3abb-4210-83b3-c0f4c586dbf8",
   "metadata": {},
   "source": [
    "## Greedy Algorithm"
   ]
  },
  {
   "cell_type": "markdown",
   "id": "ed35aec4-cb46-4ef3-8fa0-14b4ec5a15b2",
   "metadata": {},
   "source": [
    "### Knapsack Problem"
   ]
  },
  {
   "cell_type": "code",
   "execution_count": 6,
   "id": "509ed042-fc69-4279-9537-a846ff4a53b1",
   "metadata": {},
   "outputs": [
    {
     "name": "stdin",
     "output_type": "stream",
     "text": [
      "Enter the number of items:  9\n",
      "Enter the total capacity of the knapsack:  30\n"
     ]
    },
    {
     "name": "stdout",
     "output_type": "stream",
     "text": [
      "Enter the profit and weight for 9 items:\n"
     ]
    },
    {
     "name": "stdin",
     "output_type": "stream",
     "text": [
      " 20 4\n",
      " 10 5\n",
      " 6 6\n",
      " 9 3\n",
      " 18 2\n",
      " 12 5\n",
      " 16 4\n",
      " 30 6\n",
      " 15 6\n"
     ]
    },
    {
     "name": "stdout",
     "output_type": "stream",
     "text": [
      "The maximum profit is = 120.0\n"
     ]
    }
   ],
   "source": [
    "from typing import List, Tuple\n",
    "Item = Tuple[float, float]\n",
    "\n",
    "def comp_item(a: Item, b: Item) -> bool:\n",
    "    return (a[0] / a[1]) > (b[0] / b[1])\n",
    "\n",
    "def fractional_knapsack(items: List[Item], capacity: float) -> float:\n",
    "    profit = 0.0\n",
    "    items.sort(key=lambda x: x[0] / x[1], reverse=True)\n",
    "    for profit_i, weight_i in items:\n",
    "        if weight_i <= capacity:\n",
    "            capacity -= weight_i\n",
    "            profit += profit_i\n",
    "        else:\n",
    "            profit += (capacity / weight_i) * profit_i\n",
    "            capacity = 0\n",
    "            break\n",
    "\n",
    "    return profit\n",
    "\n",
    "def main():\n",
    "    n = int(input(\"Enter the number of items: \"))\n",
    "    capacity = float(input(\"Enter the total capacity of the knapsack: \"))\n",
    "    items = []\n",
    "\n",
    "    print(f\"Enter the profit and weight for {n} items:\")\n",
    "    for _ in range(n):\n",
    "        profit, weight = map(float, input().split())\n",
    "        items.append((profit, weight))\n",
    "\n",
    "    max_profit = fractional_knapsack(items, capacity)\n",
    "    print(f\"The maximum profit is = {max_profit}\")\n",
    "\n",
    "if __name__ == \"__main__\":\n",
    "    main()"
   ]
  },
  {
   "cell_type": "code",
   "execution_count": 9,
   "id": "2c6b96e2-ee22-4af5-ad2c-52d0a8760a77",
   "metadata": {},
   "outputs": [
    {
     "name": "stdin",
     "output_type": "stream",
     "text": [
      "Enter the number of items:  9\n",
      "Enter the total capacity of the knapsack:  30\n"
     ]
    },
    {
     "name": "stdout",
     "output_type": "stream",
     "text": [
      "Enter the profit and weight for 9 items:\n"
     ]
    },
    {
     "name": "stdin",
     "output_type": "stream",
     "text": [
      " 12 4\n",
      " 10 5\n",
      " 6 6\n",
      " 9 3\n",
      " 18 2\n",
      " 12 5\n",
      " 16 4\n",
      " 30 6\n",
      " 15 6\n"
     ]
    },
    {
     "name": "stdout",
     "output_type": "stream",
     "text": [
      "The maximum profit is = 112.0\n"
     ]
    }
   ],
   "source": [
    "def comp_item(item):\n",
    "    return item[0] / item[1]\n",
    "\n",
    "def knapsack(items, capacity):\n",
    "    items.sort(key=comp_item, reverse=True)\n",
    "    profit = 0\n",
    "    for profit_i, weight_i in items:\n",
    "        if weight_i <= capacity:\n",
    "            capacity -= weight_i\n",
    "            profit += profit_i\n",
    "        else:\n",
    "            profit += (capacity / weight_i) * profit_i\n",
    "            capacity = 0\n",
    "            break\n",
    "    return profit\n",
    "\n",
    "def main():\n",
    "    n = int(input(\"Enter the number of items: \"))\n",
    "    capacity = float(input(\"Enter the total capacity of the knapsack: \"))\n",
    "    items = []\n",
    "    print(f\"Enter the profit and weight for {n} items:\")\n",
    "    for _ in range(n):\n",
    "        profit, weight = map(float, input().split())\n",
    "        items.append((profit, weight))\n",
    "    max_profit = knapsack(items, capacity)\n",
    "    print(f\"The maximum profit is = {max_profit}\")\n",
    "\n",
    "if __name__ == \"__main__\":\n",
    "    main()"
   ]
  },
  {
   "cell_type": "markdown",
   "id": "6766ff3e-5d91-4ec7-8ef6-4b5bf52f631c",
   "metadata": {},
   "source": [
    "#### 25/06/24"
   ]
  },
  {
   "cell_type": "code",
   "execution_count": 1,
   "id": "6a26df89-5979-4407-9d53-47c52ef9280a",
   "metadata": {},
   "outputs": [
    {
     "name": "stdout",
     "output_type": "stream",
     "text": [
      "{0: 5.0, 1: 3.3333333333333335, 2: 3.0, 3: 1.75, 4: 8.0, 5: 3.0, 6: 2.0}\n",
      "[(6, 2.0), (5, 3.0), (4, 8.0), (3, 1.75), (2, 3.0), (1, 3.3333333333333335), (0, 5.0)]\n"
     ]
    }
   ],
   "source": [
    "p=[5,10,15,7,8,9,4]\n",
    "w=[1,3,5,4,1,3,2]\n",
    "p_w={}\n",
    "for i in range(len(p)):\n",
    "    p_w[i]=p[i]/w[i]\n",
    "print(p_w)\n",
    "l=list(p_w.items())\n",
    "sl=sorted(l,reverse=True)\n",
    "print(sl)"
   ]
  },
  {
   "cell_type": "markdown",
   "id": "88435ca9-8dd8-4be9-ae26-cb368537f217",
   "metadata": {},
   "source": [
    "### Job Sequencing"
   ]
  },
  {
   "cell_type": "code",
   "execution_count": 1,
   "id": "cf9b01c8-fe1a-4a71-bd39-9c22cd4360cb",
   "metadata": {},
   "outputs": [
    {
     "name": "stdin",
     "output_type": "stream",
     "text": [
      " 5 10 15 7 8 9 4\n",
      " 1 3 5 4 1 3 2\n",
      " 15\n"
     ]
    },
    {
     "name": "stdout",
     "output_type": "stream",
     "text": [
      "51.0\n"
     ]
    }
   ],
   "source": [
    "##Greedy Algorithm\n",
    "price=list(map(float,input().split()))\n",
    "weight=list(map(float,input().split()))\n",
    "profit=0\n",
    "ratio_list=[]\n",
    "max_weight=int(input())\n",
    "for i in range(len(price)):\n",
    "    ratio_list.append(price[i]/weight[i])\n",
    "while max_weight>0:\n",
    "    index=ratio_list.index(max(ratio_list))\n",
    "    max_weight-=weight[index]\n",
    "    profit+=price[index]\n",
    "    ratio_list.pop(index)\n",
    "    price.pop(index)\n",
    "    weight.pop(index)\n",
    "\n",
    "print(profit)\n",
    "          "
   ]
  },
  {
   "cell_type": "markdown",
   "id": "65b34616-2c96-4688-82e0-8bf4ab6d00fb",
   "metadata": {},
   "source": [
    "### Dynamic Programming"
   ]
  },
  {
   "cell_type": "code",
   "execution_count": 2,
   "id": "f951b8db-2146-495b-9ffd-1b0282ef8b2f",
   "metadata": {},
   "outputs": [
    {
     "data": {
      "text/plain": [
       "51"
      ]
     },
     "execution_count": 2,
     "metadata": {},
     "output_type": "execute_result"
    }
   ],
   "source": [
    "def calc_max(p,w,c,n):\n",
    "    if n==0 or c==0:\n",
    "        return 0\n",
    "    if (w[n-1]>c):\n",
    "        return calc_max(p,w,c,n-1)\n",
    "    else:\n",
    "        return max(p[n-1]+calc_max(p,w,c-w[n-1],n-1),calc_max(p,w,c,n-1))\n",
    "\n",
    "p=[5,10,15,7,8,9,4]\n",
    "w=[1,3,5,4,1,3,2]\n",
    "c=15\n",
    "n=len(p)\n",
    "calc_max(p,w,c,n)\n"
   ]
  },
  {
   "cell_type": "code",
   "execution_count": 3,
   "id": "6eba5819-769f-4f13-8d69-1dff9871502d",
   "metadata": {},
   "outputs": [
    {
     "name": "stdout",
     "output_type": "stream",
     "text": [
      "51\n",
      "[[-1, -1, -1, -1, -1, -1, -1, -1, -1, -1, -1, -1, -1, -1, -1, -1], [-1, 5, 5, 5, 5, 5, 5, 5, 5, 5, 5, 5, 5, 5, 5, 5], [-1, 5, 5, 10, 15, 15, 15, 15, 15, 15, 15, 15, 15, 15, 15, 15], [-1, -1, -1, -1, -1, 15, 20, 20, 25, 30, 30, 30, 30, 30, 30, 30], [-1, -1, -1, -1, -1, -1, -1, -1, -1, 30, 30, 30, 32, 37, 37, 37], [-1, -1, -1, -1, -1, -1, -1, -1, -1, -1, 38, -1, 38, 40, -1, 45], [-1, -1, -1, -1, -1, -1, -1, -1, -1, -1, -1, -1, -1, 47, -1, 47], [-1, -1, -1, -1, -1, -1, -1, -1, -1, -1, -1, -1, -1, -1, -1, 51]]\n"
     ]
    }
   ],
   "source": [
    "def calc_max(p,w,c,n):\n",
    "    if n==0 or c==0:\n",
    "        return 0\n",
    "    if DP[n][c]!=-1:\n",
    "        return DP[n][c]\n",
    "    if (w[n-1]<=c):\n",
    "        DP[n][c]=max(p[n-1]+calc_max(p,w,c-w[n-1],n-1),calc_max(p,w,c,n-1))\n",
    "        return DP[n][c]\n",
    "    else:\n",
    "        DP[n][c]=calc_max(p,w,c,n-1)\n",
    "        return DP[n][c]\n",
    "   \n",
    "p=[5,10,15,7,8,9,4]\n",
    "w=[1,3,5,4,1,3,2]\n",
    "c=15\n",
    "n=len(p)\n",
    "DP=[[-1 for i in range(c+1)] for j in range(n+1)]\n",
    "\n",
    "print(calc_max(p,w,c,n))\n",
    "print(DP)"
   ]
  },
  {
   "cell_type": "code",
   "execution_count": 5,
   "id": "9d8fc8fe-415b-49f2-9aa9-3cbd929e5f0c",
   "metadata": {},
   "outputs": [
    {
     "name": "stdout",
     "output_type": "stream",
     "text": [
      "[[0, 0, 4, 4, 4, 4, 4, 4, 4, 4, 4, 4, 4, 4, 4, 4], [0, 5, 5, 9, 9, 9, 9, 9, 9, 9, 9, 9, 9, 9, 9, 9], [0, 5, 5, 10, 15, 15, 19, 19, 19, 19, 19, 19, 19, 19, 19, 19], [0, 5, 5, 10, 15, 15, 20, 20, 25, 30, 30, 34, 34, 34, 34, 34], [0, 5, 5, 10, 15, 15, 20, 20, 25, 30, 30, 34, 34, 37, 37, 41], [0, 8, 13, 13, 18, 23, 23, 28, 28, 33, 38, 38, 42, 42, 45, 45], [0, 8, 13, 13, 18, 23, 23, 28, 32, 33, 38, 38, 42, 47, 47, 51], [0, 0, 0, 0, 0, 0, 0, 0, 0, 0, 0, 0, 0, 0, 0, 0]]\n",
      "51\n"
     ]
    }
   ],
   "source": [
    "p=[5,10,15,7,8,9,4]\n",
    "w=[1,3,5,4,1,3,2] \n",
    "c=15 \n",
    "n=len(p) \n",
    "DP=[[0 for i in range(c+1)] for j in range(n+1)] \n",
    "for i in range(n): \n",
    "    for c in range(c+1): \n",
    "        if i==0 or c==0: \n",
    "            DP[i][c]=0 \n",
    "        if c-w[i-1]<0: \n",
    "            DP[i][c]=DP[i-1][c]\n",
    "        else: \n",
    "            DP[i][c]=max(DP[i-1][c], p[i-1]+DP[i-1][c-w[i-1]])\n",
    "\n",
    "print(DP)\n",
    "print(DP[i][c])"
   ]
  },
  {
   "cell_type": "code",
   "execution_count": null,
   "id": "20c41057-92fa-43e4-ad84-54b23afe1a01",
   "metadata": {},
   "outputs": [],
   "source": []
  }
 ],
 "metadata": {
  "kernelspec": {
   "display_name": "Python 3 (ipykernel)",
   "language": "python",
   "name": "python3"
  },
  "language_info": {
   "codemirror_mode": {
    "name": "ipython",
    "version": 3
   },
   "file_extension": ".py",
   "mimetype": "text/x-python",
   "name": "python",
   "nbconvert_exporter": "python",
   "pygments_lexer": "ipython3",
   "version": "3.11.7"
  }
 },
 "nbformat": 4,
 "nbformat_minor": 5
}
