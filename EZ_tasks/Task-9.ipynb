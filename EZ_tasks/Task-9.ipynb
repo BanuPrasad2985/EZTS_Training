{
 "cells": [
  {
   "cell_type": "markdown",
   "id": "ab7ba0cb-7b25-4ec1-952f-0b0c69a50565",
   "metadata": {},
   "source": [
    "Basic Shopping Cart\n",
    "\n",
    "Objective: Create a simple shopping cart system to manage products and quantities.\n",
    "\n",
    "Instructions:\n",
    "Define a class Product with attributes for name and price.\n",
    "Define a class ShoppingCart with a dictionary to store Product objects and quantities.\n",
    "Implement methods to add a product, remove a product, and calculate the total cost of the cart.\n",
    "\n",
    "Hint: Use a dictionary in the ShoppingCart class with product names as keys and quantities as values.\n"
   ]
  },
  {
   "cell_type": "code",
   "execution_count": 1,
   "id": "76a75f39-fc3b-4b40-899b-4a7c6a02d2a7",
   "metadata": {},
   "outputs": [
    {
     "name": "stdout",
     "output_type": "stream",
     "text": [
      "Total cost: $2.50\n"
     ]
    }
   ],
   "source": [
    "class Product:\n",
    "    def __init__(self, name, price):\n",
    "        self._name = name\n",
    "        self._price = price\n",
    "\n",
    "    def get_name(self):\n",
    "        return self._name\n",
    "\n",
    "    def get_price(self):\n",
    "        return self._price\n",
    "\n",
    "class ShoppingCart:\n",
    "    def __init__(self):\n",
    "        self._cart = {}\n",
    "\n",
    "    def add_product(self, product, quantity):\n",
    "        if product in self._cart:\n",
    "            self._cart[product] += quantity\n",
    "        else:\n",
    "            self._cart[product] = quantity\n",
    "\n",
    "    def remove_product(self, product, quantity):\n",
    "        if product in self._cart:\n",
    "            if self._cart[product] > quantity:\n",
    "                self._cart[product] -= quantity\n",
    "            else:\n",
    "                del self._cart[product]\n",
    "\n",
    "    def calculate_total(self):\n",
    "        total = 0\n",
    "        for product, quantity in self._cart.items():\n",
    "            total += product.get_price() * quantity\n",
    "        return total\n",
    "\n",
    "product1 = Product(\"Apple\", 0.5)\n",
    "product2 = Product(\"Banana\", 0.25)\n",
    "product3 = Product(\"Orange\", 0.75)\n",
    "\n",
    "cart = ShoppingCart()\n",
    "\n",
    "cart.add_product(product1, 3)\n",
    "cart.add_product(product2, 2)\n",
    "cart.add_product(product3, 1)\n",
    "\n",
    "cart.remove_product(product2, 1)\n",
    "total_cost = cart.calculate_total()\n",
    "print(f\"Total cost: ${total_cost:.2f}\")"
   ]
  },
  {
   "cell_type": "code",
   "execution_count": null,
   "id": "05c2e552-cf14-4716-9abd-9c581259b0e5",
   "metadata": {},
   "outputs": [],
   "source": []
  }
 ],
 "metadata": {
  "kernelspec": {
   "display_name": "Python 3 (ipykernel)",
   "language": "python",
   "name": "python3"
  },
  "language_info": {
   "codemirror_mode": {
    "name": "ipython",
    "version": 3
   },
   "file_extension": ".py",
   "mimetype": "text/x-python",
   "name": "python",
   "nbconvert_exporter": "python",
   "pygments_lexer": "ipython3",
   "version": "3.11.7"
  }
 },
 "nbformat": 4,
 "nbformat_minor": 5
}
