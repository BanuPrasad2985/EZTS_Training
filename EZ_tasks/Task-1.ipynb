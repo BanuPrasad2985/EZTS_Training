{
 "cells": [
  {
   "cell_type": "markdown",
   "id": "fd9af287-46e0-4c74-b102-796a4064d3c0",
   "metadata": {},
   "source": [
    "Bank Account Class: \n",
    "Create a BankAccount class with attributes for account holder name, account number, and balance. \n",
    "Include methods to deposit, withdraw, and display the current balance. \n",
    "Implement checks for insufficient funds during withdrawals.\n",
    "\n",
    "1) Follow the conepts of OOP\n",
    "2) Must use the concepts of OOP to implement the above task\n",
    "3) Maintain code modularity/reusability "
   ]
  },
  {
   "cell_type": "code",
   "execution_count": 1,
   "id": "ab431547-e680-4142-9052-fb9582a35824",
   "metadata": {},
   "outputs": [
    {
     "name": "stdout",
     "output_type": "stream",
     "text": [
      "Deposited $1000. New balance is $1000.\n",
      "Account Holder: Alice\n",
      "Account Number: 1234567890\n",
      "Current Balance: $1000\n",
      "Withdrew $500. New balance is $500.\n",
      "Account Holder: Alice\n",
      "Account Number: 1234567890\n",
      "Current Balance: $500\n",
      "Insufficient funds. Withdrawal cannot be processed.\n",
      "Account Holder: Alice\n",
      "Account Number: 1234567890\n",
      "Current Balance: $500\n"
     ]
    }
   ],
   "source": [
    "class BankAccount:\n",
    "    def __init__(self, account_holder_name, account_number, initial_balance=0):\n",
    "        self.account_holder_name = account_holder_name\n",
    "        self.account_number = account_number\n",
    "        self.balance = initial_balance\n",
    "    \n",
    "    def deposit(self, amount):\n",
    "        if amount > 0:\n",
    "            self.balance += amount\n",
    "            print(f\"Deposited ${amount}. New balance is ${self.balance}.\")\n",
    "        else:\n",
    "            print(\"Deposit amount must be greater than zero.\")\n",
    "    \n",
    "    def withdraw(self, amount):\n",
    "        if amount > 0:\n",
    "            if self.balance >= amount:\n",
    "                self.balance -= amount\n",
    "                print(f\"Withdrew ${amount}. New balance is ${self.balance}.\")\n",
    "            else:\n",
    "                print(\"Insufficient funds. Withdrawal cannot be processed.\")\n",
    "        else:\n",
    "            print(\"Withdrawal amount must be greater than zero.\")\n",
    "    \n",
    "    def display_balance(self):\n",
    "        print(f\"Account Holder: {self.account_holder_name}\")\n",
    "        print(f\"Account Number: {self.account_number}\")\n",
    "        print(f\"Current Balance: ${self.balance}\")\n",
    "\n",
    "account1 = BankAccount(\"Alice\", \"1234567890\")\n",
    "account1.deposit(1000)\n",
    "account1.display_balance()\n",
    "account1.withdraw(500)\n",
    "account1.display_balance()\n",
    "account1.withdraw(600)\n",
    "account1.display_balance()\n"
   ]
  }
 ],
 "metadata": {
  "kernelspec": {
   "display_name": "Python 3 (ipykernel)",
   "language": "python",
   "name": "python3"
  },
  "language_info": {
   "codemirror_mode": {
    "name": "ipython",
    "version": 3
   },
   "file_extension": ".py",
   "mimetype": "text/x-python",
   "name": "python",
   "nbconvert_exporter": "python",
   "pygments_lexer": "ipython3",
   "version": "3.11.7"
  }
 },
 "nbformat": 4,
 "nbformat_minor": 5
}
