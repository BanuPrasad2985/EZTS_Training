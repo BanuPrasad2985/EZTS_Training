{
 "cells": [
  {
   "cell_type": "markdown",
   "id": "231d359d-7af0-4bac-ba05-cf11509bcf74",
   "metadata": {},
   "source": [
    "Temperature Converter\n",
    "\n",
    "Objective: Create a class to convert temperatures between Celsius and Fahrenheit.\n",
    "\n",
    "Instructions:\n",
    "Define a class TemperatureConverter with static methods for converting temperatures.\n",
    "Implement a method to convert from Celsius to Fahrenheit and another method to convert from Fahrenheit to Celsius.\n",
    "Demonstrate using the methods to convert temperatures in both directions.\n",
    "\n",
    "Hint: Use the formulas F = C * 9/5 + 32 for Celsius to Fahrenheit conversion and C = (F - 32) * 5/9 for Fahrenheit to Celsius conversion.\n"
   ]
  },
  {
   "cell_type": "code",
   "execution_count": 1,
   "id": "adeb227e-3d88-4a72-a09c-10ee69e4d63d",
   "metadata": {},
   "outputs": [
    {
     "name": "stdout",
     "output_type": "stream",
     "text": [
      "20°C is equal to 68.0°F\n",
      "68°F is equal to 20.0°C\n"
     ]
    }
   ],
   "source": [
    "class TemperatureConverter:\n",
    "    @staticmethod\n",
    "    def celsius_to_fahrenheit(celsius):\n",
    "        return celsius * 9/5 + 32\n",
    "    \n",
    "    @staticmethod\n",
    "    def fahrenheit_to_celsius(fahrenheit):\n",
    "        return (fahrenheit - 32) * 5/9\n",
    "\n",
    "celsius_temp = 20\n",
    "fahrenheit_temp = TemperatureConverter.celsius_to_fahrenheit(celsius_temp)\n",
    "print(f\"{celsius_temp}°C is equal to {fahrenheit_temp}°F\")\n",
    "\n",
    "fahrenheit_temp = 68\n",
    "celsius_temp = TemperatureConverter.fahrenheit_to_celsius(fahrenheit_temp)\n",
    "print(f\"{fahrenheit_temp}°F is equal to {celsius_temp}°C\")\n"
   ]
  },
  {
   "cell_type": "code",
   "execution_count": null,
   "id": "a6e6fc41-e6d2-4d31-955e-7e1ff7e9ea11",
   "metadata": {},
   "outputs": [],
   "source": []
  }
 ],
 "metadata": {
  "kernelspec": {
   "display_name": "Python 3 (ipykernel)",
   "language": "python",
   "name": "python3"
  },
  "language_info": {
   "codemirror_mode": {
    "name": "ipython",
    "version": 3
   },
   "file_extension": ".py",
   "mimetype": "text/x-python",
   "name": "python",
   "nbconvert_exporter": "python",
   "pygments_lexer": "ipython3",
   "version": "3.11.7"
  }
 },
 "nbformat": 4,
 "nbformat_minor": 5
}
