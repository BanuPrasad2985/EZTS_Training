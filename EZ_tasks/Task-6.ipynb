{
 "cells": [
  {
   "cell_type": "markdown",
   "id": "36f21e74-f0b3-4c1b-b466-8f5632790fff",
   "metadata": {},
   "source": [
    "Simple Voting System\n",
    "\n",
    "Objective: Develop a system to manage voting for candidates in an election.\n",
    "\n",
    "Instructions:\n",
    "Define a class Candidate with attributes for name and vote count.\n",
    "Implement methods to increment the vote count and get the candidate's name and vote count.\n",
    "Create a list to store instances of the Candidate class and demonstrate voting for candidates and displaying the results.\n",
    "\n",
    "Hint: Use a list to store the candidate instances, and iterate through the list to increment vote counts and display results.\n"
   ]
  },
  {
   "cell_type": "code",
   "execution_count": 6,
   "id": "c1100346-71cd-43c6-ac9f-511aba1cac81",
   "metadata": {},
   "outputs": [
    {
     "name": "stdin",
     "output_type": "stream",
     "text": [
      "Enter the number of candidates:  3\n",
      "Enter the name of Candidate 1:  ali\n",
      "Enter the name of Candidate 2:  bob\n",
      "Enter the name of Candidate 3:  chand\n",
      "Enter the number of voters:  4\n"
     ]
    },
    {
     "name": "stdout",
     "output_type": "stream",
     "text": [
      "\n",
      "Voting in progress...\n",
      "1. ali\n",
      "2. bob\n",
      "3. chand\n"
     ]
    },
    {
     "name": "stdin",
     "output_type": "stream",
     "text": [
      "Enter your choice:  2\n"
     ]
    },
    {
     "name": "stdout",
     "output_type": "stream",
     "text": [
      "Voting completed.\n",
      "\n",
      "Voting in progress...\n",
      "1. ali\n",
      "2. bob\n",
      "3. chand\n"
     ]
    },
    {
     "name": "stdin",
     "output_type": "stream",
     "text": [
      "Enter your choice:  3\n"
     ]
    },
    {
     "name": "stdout",
     "output_type": "stream",
     "text": [
      "Voting completed.\n",
      "\n",
      "Voting in progress...\n",
      "1. ali\n",
      "2. bob\n",
      "3. chand\n"
     ]
    },
    {
     "name": "stdin",
     "output_type": "stream",
     "text": [
      "Enter your choice:  1\n"
     ]
    },
    {
     "name": "stdout",
     "output_type": "stream",
     "text": [
      "Voting completed.\n",
      "\n",
      "Voting in progress...\n",
      "1. ali\n",
      "2. bob\n",
      "3. chand\n"
     ]
    },
    {
     "name": "stdin",
     "output_type": "stream",
     "text": [
      "Enter your choice:  3\n"
     ]
    },
    {
     "name": "stdout",
     "output_type": "stream",
     "text": [
      "Voting completed.\n",
      "\n",
      "Election Results:\n",
      "ali received 1 votes.\n",
      "bob received 1 votes.\n",
      "chand received 2 votes.\n",
      "\n",
      "The winner is chand with 2 votes.\n"
     ]
    }
   ],
   "source": [
    "class Candidate:\n",
    "    def __init__(self, name):\n",
    "        self._name = name\n",
    "        self._vote_count = 0\n",
    "\n",
    "    def increment_votes(self):\n",
    "        self._vote_count += 1\n",
    "\n",
    "    def get_name(self):\n",
    "        return self._name\n",
    "\n",
    "    def get_vote_count(self):\n",
    "        return self._vote_count\n",
    "\n",
    "candidates = []\n",
    "num_candidates = int(input(\"Enter the number of candidates: \"))\n",
    "for i in range(num_candidates):\n",
    "    name = input(f\"Enter the name of Candidate {i+1}: \")\n",
    "    candidates.append(Candidate(name))\n",
    "\n",
    "num_voters = int(input(\"Enter the number of voters: \"))\n",
    "for _ in range(num_voters):\n",
    "    print(\"\\nVoting in progress...\")\n",
    "    for i, candidate in enumerate(candidates):\n",
    "        print(f\"{i+1}. {candidate.get_name()}\")\n",
    "    choice = int(input(\"Enter your choice: \"))\n",
    "    candidates[choice-1].increment_votes()\n",
    "    print(\"Voting completed.\")\n",
    "\n",
    "print(\"\\nElection Results:\")\n",
    "for candidate in candidates:\n",
    "    print(f\"{candidate.get_name()} received {candidate.get_vote_count()} votes.\")\n",
    "    \n",
    "winner = max(candidates, key=lambda x: x.get_vote_count())\n",
    "print(f\"\\nThe winner is {winner.get_name()} with {winner.get_vote_count()} votes.\")"
   ]
  },
  {
   "cell_type": "code",
   "execution_count": null,
   "id": "d3c36345-ff8e-413e-8d74-aa370cc7d575",
   "metadata": {},
   "outputs": [],
   "source": []
  },
  {
   "cell_type": "code",
   "execution_count": null,
   "id": "7c03a06b-edc8-47f3-888a-e771fac503b9",
   "metadata": {},
   "outputs": [],
   "source": []
  }
 ],
 "metadata": {
  "kernelspec": {
   "display_name": "Python 3 (ipykernel)",
   "language": "python",
   "name": "python3"
  },
  "language_info": {
   "codemirror_mode": {
    "name": "ipython",
    "version": 3
   },
   "file_extension": ".py",
   "mimetype": "text/x-python",
   "name": "python",
   "nbconvert_exporter": "python",
   "pygments_lexer": "ipython3",
   "version": "3.11.7"
  }
 },
 "nbformat": 4,
 "nbformat_minor": 5
}
