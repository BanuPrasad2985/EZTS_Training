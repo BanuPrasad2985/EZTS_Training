{
 "cells": [
  {
   "cell_type": "markdown",
   "id": "c930a079-1f22-41cb-9e74-5579de1c0bc1",
   "metadata": {},
   "source": [
    "Basic Calculator\n",
    "\n",
    "Objective: Develop a simple calculator class that can perform basic arithmetic operations.\n",
    "\n",
    "Instructions:\n",
    "Define a class Calculator with methods for addition, subtraction, multiplication, and division.\n",
    "Each method should take two numbers as arguments and return the result of the operation.\n",
    "Create an instance of the Calculator class and demonstrate using its methods to perform calculations.\n",
    "\n",
    "Hint: Implement each arithmetic operation as a separate method within the Calculator class."
   ]
  },
  {
   "cell_type": "code",
   "execution_count": 1,
   "id": "d922f058-36e0-4bd2-ac55-f00554021cf5",
   "metadata": {},
   "outputs": [
    {
     "name": "stdout",
     "output_type": "stream",
     "text": [
      "8\n",
      "6\n",
      "12\n",
      "5.0\n",
      "Error: Division by zero\n"
     ]
    }
   ],
   "source": [
    "class Calculator:\n",
    "    def add(self, num1, num2):\n",
    "        return num1 + num2\n",
    "\n",
    "    def subtract(self, num1, num2):\n",
    "        return num1 - num2\n",
    "\n",
    "    def multiply(self, num1, num2):\n",
    "        return num1 * num2\n",
    "\n",
    "    def divide(self, num1, num2):\n",
    "        if num2 == 0:\n",
    "            return \"Error: Division by zero\"\n",
    "        return num1 / num2\n",
    "\n",
    "calc = Calculator()\n",
    "print(calc.add(5, 3))  \n",
    "print(calc.subtract(10, 4))  \n",
    "print(calc.multiply(2, 6)) \n",
    "print(calc.divide(15, 3))  \n",
    "print(calc.divide(10, 0))  "
   ]
  },
  {
   "cell_type": "code",
   "execution_count": null,
   "id": "593931cd-ee2d-4871-81d0-822984f3d87d",
   "metadata": {},
   "outputs": [],
   "source": []
  }
 ],
 "metadata": {
  "kernelspec": {
   "display_name": "Python 3 (ipykernel)",
   "language": "python",
   "name": "python3"
  },
  "language_info": {
   "codemirror_mode": {
    "name": "ipython",
    "version": 3
   },
   "file_extension": ".py",
   "mimetype": "text/x-python",
   "name": "python",
   "nbconvert_exporter": "python",
   "pygments_lexer": "ipython3",
   "version": "3.11.7"
  }
 },
 "nbformat": 4,
 "nbformat_minor": 5
}
