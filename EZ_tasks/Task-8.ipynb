{
 "cells": [
  {
   "cell_type": "markdown",
   "id": "67ffd4d7-5e73-4757-a694-5f08edcae7db",
   "metadata": {},
   "source": [
    "Simple Grade Book\n",
    "\n",
    "Objective: Develop a system to manage student grades for a course.\n",
    "\n",
    "Instructions:\n",
    "Define a class Student with attributes for name and a list of grades.\n",
    "Implement methods to add a grade, calculate the average grade, and get the student's name and grades.\n",
    "Create a list to store instances of the Student class and demonstrate adding grades and calculating averages.\n",
    "\n",
    "Hint: Use a list to store the grades for each student, allowing for easy addition of grades and calculation of the average.\n"
   ]
  },
  {
   "cell_type": "code",
   "execution_count": 1,
   "id": "5b2ed5bf-9a8c-4bb2-a0d4-fe6045c0f950",
   "metadata": {},
   "outputs": [
    {
     "name": "stdout",
     "output_type": "stream",
     "text": [
      "Alice: Grades [85, 90], Average Grade: 87.5\n",
      "Bob: Grades [75, 80], Average Grade: 77.5\n"
     ]
    }
   ],
   "source": [
    "class Student:\n",
    "    def __init__(self, name):\n",
    "        self.name = name\n",
    "        self.grades = []\n",
    "\n",
    "    def add_grade(self, grade):\n",
    "        self.grades.append(grade)\n",
    "\n",
    "    def average_grade(self):\n",
    "        if not self.grades:\n",
    "            return 0\n",
    "        return sum(self.grades) / len(self.grades)\n",
    "\n",
    "    def get_name(self):\n",
    "        return self.name\n",
    "\n",
    "    def get_grades(self):\n",
    "        return self.grades\n",
    "\n",
    "students = []\n",
    "\n",
    "student1 = Student(\"Alice\")\n",
    "student1.add_grade(85)\n",
    "student1.add_grade(90)\n",
    "students.append(student1)\n",
    "\n",
    "student2 = Student(\"Bob\")\n",
    "student2.add_grade(75)\n",
    "student2.add_grade(80)\n",
    "students.append(student2)\n",
    "\n",
    "for student in students:\n",
    "    avg_grade = student.average_grade()\n",
    "    print(f\"{student.get_name()}: Grades {student.get_grades()}, Average Grade: {avg_grade}\")\n"
   ]
  },
  {
   "cell_type": "code",
   "execution_count": null,
   "id": "8d18b3b6-3fda-4541-aacb-285141dc3d7c",
   "metadata": {},
   "outputs": [],
   "source": []
  }
 ],
 "metadata": {
  "kernelspec": {
   "display_name": "Python 3 (ipykernel)",
   "language": "python",
   "name": "python3"
  },
  "language_info": {
   "codemirror_mode": {
    "name": "ipython",
    "version": 3
   },
   "file_extension": ".py",
   "mimetype": "text/x-python",
   "name": "python",
   "nbconvert_exporter": "python",
   "pygments_lexer": "ipython3",
   "version": "3.11.7"
  }
 },
 "nbformat": 4,
 "nbformat_minor": 5
}
