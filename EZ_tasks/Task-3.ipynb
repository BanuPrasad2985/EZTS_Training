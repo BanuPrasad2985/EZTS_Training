{
 "cells": [
  {
   "cell_type": "markdown",
   "id": "232c8f59-b05c-43e3-b855-a7c13671034c",
   "metadata": {},
   "source": [
    "Pet Management System\n",
    "\r\n",
    "Objective: Create a system to manage pet information, including name, age, and type\n",
    "\n",
    ".\r\n",
    "Instructions:\r\n",
    "•\tDefine a class Pet with attributes for name, age, and type (e.g., dog, cat).\r\n",
    "•\tImplement methods to set and get each attribute.\r\n",
    "•\tCreate instances of the Pet class and demonstrate setting and getting attribute values.\r\n",
    "Hint: Start with defining the class and its methods, then create a few instances to test the functionality.lity.\r\n"
   ]
  },
  {
   "cell_type": "code",
   "execution_count": 1,
   "id": "37f55b41-1211-49e4-9794-aed705cdc6a0",
   "metadata": {},
   "outputs": [
    {
     "name": "stdout",
     "output_type": "stream",
     "text": [
      "Name: Buddy\n",
      "Age: 6\n",
      "Type: Dog\n",
      "\n",
      "Name: Mittens\n",
      "Age: 3\n",
      "Type: Cat\n"
     ]
    }
   ],
   "source": [
    "class Pet:\n",
    "    def __init__(self, name, age, pet_type):\n",
    "        self._name = name\n",
    "        self._age = age\n",
    "        self._type = pet_type\n",
    "\n",
    "    def set_name(self, name):\n",
    "        self._name = name\n",
    "\n",
    "    def set_age(self, age):\n",
    "        self._age = age\n",
    "\n",
    "    def set_type(self, pet_type):\n",
    "        self._type = pet_type\n",
    "\n",
    "    def get_name(self):\n",
    "        return self._name\n",
    "\n",
    "    def get_age(self):\n",
    "        return self._age\n",
    "\n",
    "    def get_type(self):\n",
    "        return self._type\n",
    "\n",
    "    def display_info(self):\n",
    "        print(f\"Name: {self._name}\")\n",
    "        print(f\"Age: {self._age}\")\n",
    "        print(f\"Type: {self._type}\")\n",
    "\n",
    "pet1 = Pet(\"Buddy\", 5, \"Dog\")\n",
    "pet2 = Pet(\"Whiskers\", 3, \"Cat\")\n",
    "pet1.set_age(6)\n",
    "pet2.set_name(\"Mittens\")\n",
    "pet1.display_info()\n",
    "print()\n",
    "pet2.display_info()"
   ]
  },
  {
   "cell_type": "code",
   "execution_count": null,
   "id": "092a5ed6-1b7b-40ef-b779-2e5ef6130b6d",
   "metadata": {},
   "outputs": [],
   "source": []
  }
 ],
 "metadata": {
  "kernelspec": {
   "display_name": "Python 3 (ipykernel)",
   "language": "python",
   "name": "python3"
  },
  "language_info": {
   "codemirror_mode": {
    "name": "ipython",
    "version": 3
   },
   "file_extension": ".py",
   "mimetype": "text/x-python",
   "name": "python",
   "nbconvert_exporter": "python",
   "pygments_lexer": "ipython3",
   "version": "3.11.7"
  }
 },
 "nbformat": 4,
 "nbformat_minor": 5
}
