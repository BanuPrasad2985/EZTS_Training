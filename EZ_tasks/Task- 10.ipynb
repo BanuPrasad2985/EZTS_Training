{
 "cells": [
  {
   "cell_type": "markdown",
   "id": "9377dd92-a6aa-4030-9d8b-59fb8b6a971e",
   "metadata": {},
   "source": [
    "Simple Bank Account\r\n",
    "\n",
    "\n",
    "Objective: Develop a class to represent a bank account with basic deposit and withdrawal functionality.\n",
    "\r\n",
    "Instructions\r\n",
    " Define a class BankAccount with attributes for account number and balanc.\r\n",
    " Implement methods to deposit money, withdraw money (if sufficient funds are available), and check the balane.\r\n",
    " Create instances of the BankAccount class and demonstrate depositing, withdrawing, and checking the bala\n",
    "nce.\r\n",
    "Hint: Start with defining the class and its methods, then create a few instances to test depositing, withdrawing, and balance checking.\r\n"
   ]
  },
  {
   "cell_type": "code",
   "execution_count": 2,
   "id": "95b9b5f3-376c-4f93-b5bd-6d5b72f62a70",
   "metadata": {},
   "outputs": [
    {
     "name": "stdout",
     "output_type": "stream",
     "text": [
      "Deposited Rs500.00 into account 123456789. New balance: Rs1500.00\n",
      "Withdrew Rs200.00 from account 987654321. New balance: Rs300.00\n",
      "Insufficient funds in account 123456789. Current balance: Rs1500.00\n",
      "Account 123456789 balance: Rs1500.00\n",
      "Account 987654321 balance: Rs300.00\n"
     ]
    }
   ],
   "source": [
    "class BankAccount:\n",
    "    def __init__(self, account_number, initial_balance):\n",
    "        self._account_number = account_number\n",
    "        self._balance = initial_balance\n",
    "\n",
    "    def deposit(self, amount):\n",
    "        self._balance += amount\n",
    "        print(f\"Deposited Rs{amount:.2f} into account {self._account_number}. New balance: Rs{self._balance:.2f}\")\n",
    "\n",
    "    def withdraw(self, amount):\n",
    "        if self._balance >= amount:\n",
    "            self._balance -= amount\n",
    "            print(f\"Withdrew Rs{amount:.2f} from account {self._account_number}. New balance: Rs{self._balance:.2f}\")\n",
    "        else:\n",
    "            print(f\"Insufficient funds in account {self._account_number}. Current balance: Rs{self._balance:.2f}\")\n",
    "\n",
    "    def check_balance(self):\n",
    "        print(f\"Account {self._account_number} balance: Rs{self._balance:.2f}\")\n",
    "\n",
    "account1 = BankAccount(\"123456789\", 1000.00)\n",
    "account2 = BankAccount(\"987654321\", 500.00)\n",
    "account1.deposit(500.00)\n",
    "account2.withdraw(200.00)\n",
    "account1.withdraw(2000.00)\n",
    "account1.check_balance()\n",
    "account2.check_balance()"
   ]
  },
  {
   "cell_type": "code",
   "execution_count": null,
   "id": "6e825979-6f8c-4231-8f5b-e1a55f982590",
   "metadata": {},
   "outputs": [],
   "source": []
  }
 ],
 "metadata": {
  "kernelspec": {
   "display_name": "Python 3 (ipykernel)",
   "language": "python",
   "name": "python3"
  },
  "language_info": {
   "codemirror_mode": {
    "name": "ipython",
    "version": 3
   },
   "file_extension": ".py",
   "mimetype": "text/x-python",
   "name": "python",
   "nbconvert_exporter": "python",
   "pygments_lexer": "ipython3",
   "version": "3.11.7"
  }
 },
 "nbformat": 4,
 "nbformat_minor": 5
}
